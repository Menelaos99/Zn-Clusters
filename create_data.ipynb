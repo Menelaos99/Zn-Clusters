{
 "cells": [
  {
   "cell_type": "code",
   "execution_count": 57,
   "metadata": {},
   "outputs": [
    {
     "data": {
      "text/plain": [
       "{'divide': 'ignore', 'over': 'warn', 'under': 'ignore', 'invalid': 'ignore'}"
      ]
     },
     "execution_count": 57,
     "metadata": {},
     "output_type": "execute_result"
    }
   ],
   "source": [
    "import re\n",
    "import numpy as np\n",
    "from helpers import get_graph\n",
    "import torch\n",
    "import networkx as nx\n",
    "import matplotlib.pyplot as plt\n",
    "np.seterr(divide='ignore', invalid='ignore')"
   ]
  },
  {
   "cell_type": "code",
   "execution_count": 58,
   "metadata": {},
   "outputs": [
    {
     "name": "stderr",
     "output_type": "stream",
     "text": [
      "rm: data_processed/*.pt: No such file or directory\n"
     ]
    }
   ],
   "source": [
    "import os\n",
    "os.system(r'rm -r data_processed/*.pt')\n",
    "\n",
    "def files_with_extension(directory, extension):\n",
    "    file_list = []\n",
    "\n",
    "    for root, dirs, files in os.walk(directory):\n",
    "            for file in files:\n",
    "                if file.endswith(extension):\n",
    "                    file_list.append(os.path.join(root,file))\n",
    "\n",
    "    file_list.sort()  # Sofile_listrt the file names alphabetically\n",
    "    return file_list\n",
    "\n",
    "# Provide the directory path and file extension\n",
    "directory_path =  os.getcwd() + '/data_raw'\n",
    "file_extension = '.xyz'\n",
    "\n",
    "\n",
    "# all .xyz files \n",
    "file_list = files_with_extension(directory_path, file_extension)\n"
   ]
  },
  {
   "cell_type": "code",
   "execution_count": 59,
   "metadata": {},
   "outputs": [
    {
     "name": "stdout",
     "output_type": "stream",
     "text": [
      "/Users/menelaos/Desktop/znclusters/data_raw/Ni3_zn_double_trj.xyz\n",
      "/Users/menelaos/Desktop/znclusters/data_raw/Ni3_zn_single_trj.xyz\n",
      "/Users/menelaos/Desktop/znclusters/data_raw/Ni3_zn_top_trj.xyz\n",
      "/Users/menelaos/Desktop/znclusters/data_raw/Ni6_rot_zn_double_trj.xyz\n",
      "/Users/menelaos/Desktop/znclusters/data_raw/Ni6_rot_zn_top_trj.xyz\n",
      "/Users/menelaos/Desktop/znclusters/data_raw/Ni6_zn_double_trj.xyz\n",
      "/Users/menelaos/Desktop/znclusters/data_raw/Ni6_zn_top_trj.xyz\n"
     ]
    }
   ],
   "source": [
    "# all .xyz files in a the working directory\n",
    "for file in file_list:\n",
    "    print(file)"
   ]
  },
  {
   "cell_type": "code",
   "execution_count": null,
   "metadata": {},
   "outputs": [],
   "source": [
    "graph_list = []\n",
    "energies = []\n",
    "index = [0,3,-1] # which iterations of the files to pick: we pick the last ones, since they have the lowest energy\n",
    "\n",
    "for filename in file_list:\n",
    "        # do a loop over all .xyz files\n",
    "        i = 0\n",
    "        atoms = None\n",
    "        coordinates = None\n",
    "        e_value = None\n",
    "        graph_temp = []\n",
    "        energy_temp = []\n",
    "\n",
    "        with open(filename, 'r') as f: \n",
    "                if \"6\" in filename:\n",
    "                        if \"rot\" in filename:\n",
    "                               offset = -10408.779936334086\n",
    "                               print(filename, \"six rotated\")\n",
    "\n",
    "                        else: \n",
    "                              print(filename, \"six\")\n",
    "\n",
    "                              offset = -10408.763541094204\n",
    "                if '3' in filename:\n",
    "                       print(filename, \"three\")\n",
    "\n",
    "                       offset = -5204.455811711983\n",
    "                # opens .xyz file and saves atoms, coordinates and target\n",
    "                for line in f: \n",
    "                        if line.strip().isdigit():  #check the start of a new iteration\n",
    "                            atom_num = int(line.strip())\n",
    "                            i+=1\n",
    "                            atom_count = 0\n",
    "                            atoms = []              # atoms in clusters\n",
    "                            coordinates = []        # atom coordinates of clusters\n",
    "                        pattern = r'E\\s+\\s*([+-]?\\d+\\.\\d+)' # searches for energy (anywhere in string)\n",
    "                        result = re.search(pattern, line)   \n",
    "                        if result:            \n",
    "                                e_value = float(result.group(1))  - offset\n",
    "                                energy_temp.append(e_value)\n",
    "                                continue\n",
    "                        pattern = r'^\\s+[A-Z][a-z]?' # matches elements coordinates (at beginning of string)\n",
    "                        if re.match(pattern, line): \n",
    "                                atom, x1, x2, x3 = line.split()\n",
    "                                atoms.append(atom)\n",
    "                                coordinates.append([float(x1), float(x2), float(x3)])\n",
    "                                atom_count+=1\n",
    "                        if atom_count == atom_num:\n",
    "                            # save last molecule in .xyz file\n",
    "                            atoms = np.array(atoms)\n",
    "                            coordinates = np.array(coordinates) # TODO: check shape\n",
    "                            a =get_graph(atoms, coordinates, e_value)\n",
    "                            \n",
    "                            graph_temp.append(a) \n",
    "                            \n",
    "\n",
    "                print(f'Found {i} iterations in file {filename}') \n",
    "                if i > 1: # some files contain many iterations, for these files we select the last iterations (i.e. index -1,-2, etc.)\n",
    "                        graph_temp = [graph_temp[ind] for ind in index]\n",
    "                        energy_temp = [energy_temp[ind] for ind in index]\n",
    "                for graph in graph_temp:\n",
    "                        graph_list.append(graph)\n",
    "                for energy in energy_temp:\n",
    "                        energies.append(energy)\n",
    "\n",
    "print(graph)\n",
    "print('energies', energies)\n",
    "# node_labels = [f'{i}' for i in range(1, 17)]\n",
    "# plt.imshow(b, cmap='binary', interpolation='none')\n",
    "# plt.colorbar()\n",
    "# plt.xticks(np.arange(16), labels=node_labels)\n",
    "# plt.yticks(np.arange(16), labels=node_labels)\n",
    "# plt.show()"
   ]
  },
  {
   "cell_type": "code",
   "execution_count": 61,
   "metadata": {},
   "outputs": [
    {
     "name": "stdout",
     "output_type": "stream",
     "text": [
      "graph (21, 4, 2)\n"
     ]
    },
    {
     "name": "stderr",
     "output_type": "stream",
     "text": [
      "/var/folders/3s/q9d61ngn2b3bm9s2ywhwmyfm0000gn/T/ipykernel_49893/3406214066.py:12: VisibleDeprecationWarning: Creating an ndarray from ragged nested sequences (which is a list-or-tuple of lists-or-tuples-or ndarrays with different lengths or shapes) is deprecated. If you meant to do this, you must specify 'dtype=object' when creating the ndarray.\n",
      "  print('graph', np.array(graph_list).shape)\n"
     ]
    }
   ],
   "source": [
    "# get adsorption energy by subtracting isolated energies\n",
    "# isolated_en_cluster = -1778.725143985331\n",
    "# isolated_en_mol = -1038.350912875803\n",
    "# isolated_en_cluster = -1778.725143985331\n",
    "# isolated_en_mol = -1038.350912875803\n",
    "# uncorrected = np.array([-5995.369782,-5995.365433 , -5995.366846 , -5995.36561 , -5995.369098 ])\n",
    "# for i in range(5):\n",
    "#     energies[-i] = uncorrected[-i]\n",
    "# energies = np.asarray(energies) -(isolated_en_cluster + isolated_en_mol)\n",
    "\n",
    "\n",
    "print('graph', np.array(graph_list).shape)\n",
    "# graph_list = np.array(graph_list)\n",
    "# for i in range(graph_list.shape[0]):\n",
    "#     for j in range(graph_list.shape[1]):\n",
    "#         print(graph_list[i][j])"
   ]
  },
  {
   "cell_type": "code",
   "execution_count": 62,
   "metadata": {},
   "outputs": [],
   "source": [
    "def normalization(a):\n",
    "    return (a - a.min(axis = 0))/(a.max(axis = 0) - a.min(axis = 0)), a.max(axis = 0), a.min(axis = 0)\n",
    "\n",
    "def normalization_with_inputs(a, amax, amin):\n",
    "    return (a - amin)/(amax - amin)\n",
    "\n",
    "def reverse_normalization(a,amax,amin):\n",
    "    return a*(amax-amin) + amin\n",
    "   "
   ]
  },
  {
   "cell_type": "code",
   "execution_count": 63,
   "metadata": {},
   "outputs": [
    {
     "name": "stdout",
     "output_type": "stream",
     "text": [
      "mean -1778.8730868753953\n",
      "std 0.04648539097338326\n",
      "energies [-1778.9388124848665, -1778.9401004776646, -1778.9413014288702, -1778.8195247850826, -1778.841267182519, -1778.867851959476, -1778.9081385658965, -1778.9197593909457, -1778.9412315713435, -1778.8455701891962, -1778.8550371094043, -1778.8865778574072, -1778.853018635622, -1778.8622398742082, -1778.8884536431851, -1778.7842303078723, -1778.7952656184298, -1778.8171021928174, -1778.8610305679304, -1778.869029355341, -1778.8992811852204]\n",
      "Data(x=[16, 3], edge_index=[2, 58], edge_attr=[58, 2], y=0.01584596829723661)\n",
      "[1.58459683e-02 7.64590714e-03 0.00000000e+00 7.75296203e-01\n",
      " 6.36872302e-01 4.67619184e-01 2.11132783e-01 1.37148304e-01\n",
      " 4.44750928e-04 6.09477026e-01 5.49205474e-01 3.48399955e-01\n",
      " 5.62056174e-01 5.03348764e-01 3.36457685e-01 1.00000000e+00\n",
      " 9.29743224e-01 7.90719741e-01 5.11047864e-01 4.60123243e-01\n",
      " 2.67523676e-01]\n",
      "(21,)\n"
     ]
    },
    {
     "data": {
      "image/png": "[encoded data removed]",
      "text/plain": [
       "<Figure size 640x480 with 1 Axes>"
      ]
     },
     "metadata": {},
     "output_type": "display_data"
    }
   ],
   "source": [
    "# # normalize target\n",
    "\n",
    "mean = np.mean(energies)\n",
    "print('mean', mean)\n",
    "std = np.std(energies)\n",
    "print('std', std)\n",
    "# energies = (energies - mean) / std # normalization\n",
    "print('energies', energies)\n",
    "energies = np.array(energies)\n",
    "energies = normalization(energies)[0]\n",
    "# energies[]\n",
    "for i in range(len(graph_list)):\n",
    "        graph_list[i].y = energies[i]\n",
    "\n",
    "import matplotlib.pyplot as plt\n",
    "\n",
    "plt.hist(energies)\n",
    "print(graph_list[0])\n",
    "print(energies)\n",
    "print(energies.shape)"
   ]
  },
  {
   "cell_type": "code",
   "execution_count": 64,
   "metadata": {},
   "outputs": [
    {
     "name": "stdout",
     "output_type": "stream",
     "text": [
      "/Users/menelaos/Desktop/znclusters/data_processed/\n"
     ]
    }
   ],
   "source": [
    "# save graphs to .pt file\n",
    "import torch\n",
    "root_path = os.getcwd() + '/data_processed/'\n",
    "print(root_path)\n",
    "for i, graph in enumerate(graph_list):\n",
    "    filename = f'data_{i}.pt' # consider saving dictionary with 'to_dict' method\n",
    "    torch.save(graph_list[i], os.path.join(root_path, filename))\n",
    "\n",
    "\n",
    "loaded_graph_list = torch.load(os.path.join(root_path, filename))"
   ]
  },
  {
   "cell_type": "code",
   "execution_count": 65,
   "metadata": {},
   "outputs": [
    {
     "name": "stdout",
     "output_type": "stream",
     "text": [
      "4\n"
     ]
    },
    {
     "data": {
      "text/plain": [
       "<bound method BaseData.edge_attrs of Data(x=[31, 3], edge_index=[2, 117], edge_attr=[117, 2], y=0.26752367579028585)>"
      ]
     },
     "execution_count": 65,
     "metadata": {},
     "output_type": "execute_result"
    }
   ],
   "source": [
    "print(len(loaded_graph_list))\n",
    "loaded_graph_list.edge_attrs\n",
    "\n"
   ]
  },
  {
   "cell_type": "code",
   "execution_count": 66,
   "metadata": {},
   "outputs": [],
   "source": [
    "# # TODO: save atoms\n",
    "\n",
    "# atoms = []\n",
    "# with open('data_raw/IT1/IT1_pos1.xyz', 'r') as f:  # use a generic file with only one DFT\n",
    "#         # opens .xyz file and saves atoms, coordinates and target\n",
    "#         for line in f: \n",
    "#                 pattern = r'^\\s+[A-Z][a-z]?' # matches elements coordinates (at beginning of string)\n",
    "#                 if re.match(pattern, line): \n",
    "#                         atom, _, _, _ = line.split()\n",
    "#                         atoms.append(atom)\n",
    "# print(atoms)\n",
    "\n",
    "# with open('data_processed/atoms.txt', 'w') as file:\n",
    "#     for string in atoms:\n",
    "#         file.write(string + '\\n')\n"
   ]
  },
  {
   "cell_type": "code",
   "execution_count": 67,
   "metadata": {},
   "outputs": [],
   "source": [
    "root_path = os.getcwd() + '/data_processed/'\n",
    "filenames = os.listdir(root_path)\n",
    "filenames.sort()\n",
    "# debug: \n",
    "# filenames = filenames[:6]\n",
    "for filename in filenames:\n",
    "    if filename.endswith('.pt'):\n",
    "        graph = torch.load(os.path.join(root_path, filename)) \n"
   ]
  },
  {
   "cell_type": "code",
   "execution_count": 49,
   "metadata": {},
   "outputs": [
    {
     "data": {
      "text/plain": [
       "torch.Size([119, 2])"
      ]
     },
     "execution_count": 49,
     "metadata": {},
     "output_type": "execute_result"
    }
   ],
   "source": [
    "graph.edge_attr.shape"
   ]
  },
  {
   "cell_type": "code",
   "execution_count": 44,
   "metadata": {},
   "outputs": [
    {
     "ename": "AttributeError",
     "evalue": "'NoneType' object has no attribute 'dtype'",
     "output_type": "error",
     "traceback": [
      "\u001b[0;31m---------------------------------------------------------------------------\u001b[0m",
      "\u001b[0;31mAttributeError\u001b[0m                            Traceback (most recent call last)",
      "Cell \u001b[0;32mIn[44], line 1\u001b[0m\n\u001b[0;32m----> 1\u001b[0m \u001b[43mgraph\u001b[49m\u001b[38;5;241;43m.\u001b[39;49m\u001b[43mpos\u001b[49m\u001b[38;5;241;43m.\u001b[39;49m\u001b[43mdtype\u001b[49m\n",
      "\u001b[0;31mAttributeError\u001b[0m: 'NoneType' object has no attribute 'dtype'"
     ]
    }
   ],
   "source": [
    "graph.pos.dtype"
   ]
  },
  {
   "cell_type": "code",
   "execution_count": 52,
   "metadata": {},
   "outputs": [
    {
     "name": "stdout",
     "output_type": "stream",
     "text": [
      "Data(x=[16, 3], edge_index=[2, 256], edge_attr=[256, 3], y=-6983.39453125)\n",
      "['__call__', '__cat_dim__', '__class__', '__contains__', '__copy__', '__deepcopy__', '__delattr__', '__delitem__', '__dict__', '__dir__', '__doc__', '__eq__', '__format__', '__ge__', '__getattr__', '__getattribute__', '__getitem__', '__getstate__', '__gt__', '__hash__', '__inc__', '__init__', '__init_subclass__', '__iter__', '__le__', '__len__', '__lt__', '__module__', '__ne__', '__new__', '__reduce__', '__reduce_ex__', '__repr__', '__setattr__', '__setitem__', '__setstate__', '__sizeof__', '__str__', '__subclasshook__', '__weakref__', '_edge_attr_cls', '_edge_to_layout', '_edges_to_layout', '_get_edge_index', '_get_tensor', '_get_tensor_size', '_multi_get_tensor', '_put_edge_index', '_put_tensor', '_remove_edge_index', '_remove_tensor', '_store', '_tensor_attr_cls', '_to_type', 'apply', 'apply_', 'batch', 'clone', 'coalesce', 'contains_isolated_nodes', 'contains_self_loops', 'contiguous', 'coo', 'cpu', 'csc', 'csr', 'cuda', 'debug', 'detach', 'detach_', 'edge_attr', 'edge_attrs', 'edge_index', 'edge_stores', 'edge_subgraph', 'edge_weight', 'from_dict', 'generate_ids', 'get_all_edge_attrs', 'get_all_tensor_attrs', 'get_edge_index', 'get_tensor', 'get_tensor_size', 'has_isolated_nodes', 'has_self_loops', 'is_coalesced', 'is_cuda', 'is_directed', 'is_edge_attr', 'is_node_attr', 'is_sorted', 'is_undirected', 'keys', 'multi_get_tensor', 'node_attrs', 'node_offsets', 'node_stores', 'num_edge_features', 'num_edge_types', 'num_edges', 'num_faces', 'num_features', 'num_node_features', 'num_node_types', 'num_nodes', 'pin_memory', 'pos', 'put_edge_index', 'put_tensor', 'record_stream', 'remove_edge_index', 'remove_tensor', 'requires_grad_', 'share_memory_', 'size', 'sort', 'stores', 'stores_as', 'subgraph', 'to', 'to_dict', 'to_heterogeneous', 'to_namedtuple', 'update', 'update_tensor', 'validate', 'view', 'x', 'y']\n",
      "[[  0.          0.          0.       ]\n",
      " [328.43027     2.3871126   1.       ]\n",
      " [328.5619      2.3861563   1.       ]\n",
      " [ 94.48419     1.7780752   1.       ]\n",
      " [ 88.39817     1.9004918   1.       ]\n",
      " [  0.          0.          0.       ]\n",
      " [  0.          0.          0.       ]\n",
      " [  0.          0.          0.       ]\n",
      " [ 88.40185     1.9004127   1.       ]\n",
      " [  0.          0.          0.       ]\n",
      " [  0.          0.          0.       ]\n",
      " [  0.          0.          0.       ]\n",
      " [  0.          0.          0.       ]\n",
      " [  0.          0.          0.       ]\n",
      " [  0.          0.          0.       ]\n",
      " [335.1347      2.506455    1.       ]\n",
      " [328.43027     2.3871126   1.       ]\n",
      " [  0.          0.          0.       ]\n",
      " [323.61127     2.4226599   1.       ]\n",
      " [  0.          0.          0.       ]\n",
      " [ 86.98216     1.9314305   1.       ]\n",
      " [ 94.96661     1.7690427   1.       ]\n",
      " [ 87.03435     1.9302723   1.       ]\n",
      " [  0.          0.          0.       ]\n",
      " [  0.          0.          0.       ]\n",
      " [  0.          0.          0.       ]\n",
      " [  0.          0.          0.       ]\n",
      " [  0.          0.          0.       ]\n",
      " [  0.          0.          0.       ]\n",
      " [  0.          0.          0.       ]\n",
      " [  0.          0.          0.       ]\n",
      " [327.91953     2.5616043   1.       ]\n",
      " [328.5619      2.3861563   1.       ]\n",
      " [323.61127     2.4226599   1.       ]\n",
      " [  0.          0.          0.       ]\n",
      " [  0.          0.          0.       ]\n",
      " [  0.          0.          0.       ]\n",
      " [  0.          0.          0.       ]\n",
      " [ 88.023186    1.908588    1.       ]\n",
      " [ 94.84284     1.7713515   1.       ]\n",
      " [ 87.20633     1.9264656   1.       ]\n",
      " [  0.          0.          0.       ]\n",
      " [  0.          0.          0.       ]\n",
      " [  0.          0.          0.       ]\n",
      " [  0.          0.          0.       ]\n",
      " [  0.          0.          0.       ]\n",
      " [  0.          0.          0.       ]\n",
      " [327.05692     2.5683603   1.       ]\n",
      " [ 94.48419     1.7780752   1.       ]\n",
      " [  0.          0.          0.       ]\n",
      " [  0.          0.          0.       ]\n",
      " [  0.          0.          0.       ]\n",
      " [  0.          0.          0.       ]\n",
      " [  0.          0.          0.       ]\n",
      " [  0.          0.          0.       ]\n",
      " [  0.          0.          0.       ]\n",
      " [  0.          0.          0.       ]\n",
      " [ 41.568573    1.1547185   1.       ]\n",
      " [  0.          0.          0.       ]\n",
      " [  0.          0.          0.       ]\n",
      " [  0.          0.          0.       ]\n",
      " [  0.          0.          0.       ]\n",
      " [  0.          0.          0.       ]\n",
      " [  0.          0.          0.       ]\n",
      " [ 88.39817     1.9004918   1.       ]\n",
      " [ 86.98216     1.9314305   1.       ]\n",
      " [  0.          0.          0.       ]\n",
      " [  0.          0.          0.       ]\n",
      " [  0.          0.          0.       ]\n",
      " [  0.          0.          0.       ]\n",
      " [  0.          0.          0.       ]\n",
      " [  0.          0.          0.       ]\n",
      " [  0.          0.          0.       ]\n",
      " [  0.          0.          0.       ]\n",
      " [ 40.802788    1.1763902   2.       ]\n",
      " [  0.          0.          0.       ]\n",
      " [  0.          0.          0.       ]\n",
      " [  0.          0.          0.       ]\n",
      " [  0.          0.          0.       ]\n",
      " [  0.          0.          0.       ]\n",
      " [  0.          0.          0.       ]\n",
      " [ 94.96661     1.7690427   1.       ]\n",
      " [  0.          0.          0.       ]\n",
      " [  0.          0.          0.       ]\n",
      " [  0.          0.          0.       ]\n",
      " [  0.          0.          0.       ]\n",
      " [  0.          0.          0.       ]\n",
      " [  0.          0.          0.       ]\n",
      " [  0.          0.          0.       ]\n",
      " [  0.          0.          0.       ]\n",
      " [  0.          0.          0.       ]\n",
      " [ 41.523956    1.1559592   1.       ]\n",
      " [  0.          0.          0.       ]\n",
      " [  0.          0.          0.       ]\n",
      " [  0.          0.          0.       ]\n",
      " [  0.          0.          0.       ]\n",
      " [  0.          0.          0.       ]\n",
      " [ 87.03435     1.9302723   1.       ]\n",
      " [ 88.023186    1.908588    1.       ]\n",
      " [  0.          0.          0.       ]\n",
      " [  0.          0.          0.       ]\n",
      " [  0.          0.          0.       ]\n",
      " [  0.          0.          0.       ]\n",
      " [  0.          0.          0.       ]\n",
      " [  0.          0.          0.       ]\n",
      " [  0.          0.          0.       ]\n",
      " [  0.          0.          0.       ]\n",
      " [  0.          0.          0.       ]\n",
      " [ 40.77645     1.17715     2.       ]\n",
      " [  0.          0.          0.       ]\n",
      " [  0.          0.          0.       ]\n",
      " [  0.          0.          0.       ]\n",
      " [  0.          0.          0.       ]\n",
      " [  0.          0.          0.       ]\n",
      " [ 94.84284     1.7713515   1.       ]\n",
      " [  0.          0.          0.       ]\n",
      " [  0.          0.          0.       ]\n",
      " [  0.          0.          0.       ]\n",
      " [  0.          0.          0.       ]\n",
      " [  0.          0.          0.       ]\n",
      " [  0.          0.          0.       ]\n",
      " [  0.          0.          0.       ]\n",
      " [  0.          0.          0.       ]\n",
      " [  0.          0.          0.       ]\n",
      " [  0.          0.          0.       ]\n",
      " [ 41.55427     1.155116    1.       ]\n",
      " [  0.          0.          0.       ]\n",
      " [  0.          0.          0.       ]\n",
      " [ 88.40185     1.9004127   1.       ]\n",
      " [  0.          0.          0.       ]\n",
      " [ 87.20633     1.9264656   1.       ]\n",
      " [  0.          0.          0.       ]\n",
      " [  0.          0.          0.       ]\n",
      " [  0.          0.          0.       ]\n",
      " [  0.          0.          0.       ]\n",
      " [  0.          0.          0.       ]\n",
      " [  0.          0.          0.       ]\n",
      " [  0.          0.          0.       ]\n",
      " [  0.          0.          0.       ]\n",
      " [  0.          0.          0.       ]\n",
      " [  0.          0.          0.       ]\n",
      " [  0.          0.          0.       ]\n",
      " [ 40.80868     1.1762203   2.       ]\n",
      " [  0.          0.          0.       ]\n",
      " [  0.          0.          0.       ]\n",
      " [  0.          0.          0.       ]\n",
      " [  0.          0.          0.       ]\n",
      " [ 41.568573    1.1547185   1.       ]\n",
      " [  0.          0.          0.       ]\n",
      " [  0.          0.          0.       ]\n",
      " [  0.          0.          0.       ]\n",
      " [  0.          0.          0.       ]\n",
      " [  0.          0.          0.       ]\n",
      " [  0.          0.          0.       ]\n",
      " [  0.          0.          0.       ]\n",
      " [  0.          0.          0.       ]\n",
      " [  0.          0.          0.       ]\n",
      " [  0.          0.          0.       ]\n",
      " [  0.          0.          0.       ]\n",
      " [  0.          0.          0.       ]\n",
      " [  0.          0.          0.       ]\n",
      " [  0.          0.          0.       ]\n",
      " [  0.          0.          0.       ]\n",
      " [  0.          0.          0.       ]\n",
      " [ 40.802788    1.1763902   2.       ]\n",
      " [  0.          0.          0.       ]\n",
      " [  0.          0.          0.       ]\n",
      " [  0.          0.          0.       ]\n",
      " [  0.          0.          0.       ]\n",
      " [  0.          0.          0.       ]\n",
      " [  0.          0.          0.       ]\n",
      " [  0.          0.          0.       ]\n",
      " [  0.          0.          0.       ]\n",
      " [  0.          0.          0.       ]\n",
      " [  0.          0.          0.       ]\n",
      " [  0.          0.          0.       ]\n",
      " [  0.          0.          0.       ]\n",
      " [  0.          0.          0.       ]\n",
      " [  0.          0.          0.       ]\n",
      " [  0.          0.          0.       ]\n",
      " [  0.          0.          0.       ]\n",
      " [ 41.523956    1.1559592   1.       ]\n",
      " [  0.          0.          0.       ]\n",
      " [  0.          0.          0.       ]\n",
      " [  0.          0.          0.       ]\n",
      " [  0.          0.          0.       ]\n",
      " [  0.          0.          0.       ]\n",
      " [  0.          0.          0.       ]\n",
      " [  0.          0.          0.       ]\n",
      " [  0.          0.          0.       ]\n",
      " [  0.          0.          0.       ]\n",
      " [  0.          0.          0.       ]\n",
      " [  0.          0.          0.       ]\n",
      " [  0.          0.          0.       ]\n",
      " [  0.          0.          0.       ]\n",
      " [  0.          0.          0.       ]\n",
      " [  0.          0.          0.       ]\n",
      " [  0.          0.          0.       ]\n",
      " [ 40.77645     1.17715     2.       ]\n",
      " [  0.          0.          0.       ]\n",
      " [  0.          0.          0.       ]\n",
      " [  0.          0.          0.       ]\n",
      " [  0.          0.          0.       ]\n",
      " [  0.          0.          0.       ]\n",
      " [  0.          0.          0.       ]\n",
      " [  0.          0.          0.       ]\n",
      " [  0.          0.          0.       ]\n",
      " [  0.          0.          0.       ]\n",
      " [  0.          0.          0.       ]\n",
      " [  0.          0.          0.       ]\n",
      " [  0.          0.          0.       ]\n",
      " [  0.          0.          0.       ]\n",
      " [  0.          0.          0.       ]\n",
      " [  0.          0.          0.       ]\n",
      " [  0.          0.          0.       ]\n",
      " [ 41.55427     1.155116    1.       ]\n",
      " [  0.          0.          0.       ]\n",
      " [  0.          0.          0.       ]\n",
      " [  0.          0.          0.       ]\n",
      " [  0.          0.          0.       ]\n",
      " [  0.          0.          0.       ]\n",
      " [  0.          0.          0.       ]\n",
      " [  0.          0.          0.       ]\n",
      " [  0.          0.          0.       ]\n",
      " [  0.          0.          0.       ]\n",
      " [  0.          0.          0.       ]\n",
      " [  0.          0.          0.       ]\n",
      " [  0.          0.          0.       ]\n",
      " [  0.          0.          0.       ]\n",
      " [  0.          0.          0.       ]\n",
      " [  0.          0.          0.       ]\n",
      " [  0.          0.          0.       ]\n",
      " [ 40.80868     1.1762203   2.       ]\n",
      " [  0.          0.          0.       ]\n",
      " [  0.          0.          0.       ]\n",
      " [  0.          0.          0.       ]\n",
      " [  0.          0.          0.       ]\n",
      " [  0.          0.          0.       ]\n",
      " [  0.          0.          0.       ]\n",
      " [  0.          0.          0.       ]\n",
      " [335.1347      2.506455    1.       ]\n",
      " [327.91953     2.5616043   1.       ]\n",
      " [327.05692     2.5683603   1.       ]\n",
      " [  0.          0.          0.       ]\n",
      " [  0.          0.          0.       ]\n",
      " [  0.          0.          0.       ]\n",
      " [  0.          0.          0.       ]\n",
      " [  0.          0.          0.       ]\n",
      " [  0.          0.          0.       ]\n",
      " [  0.          0.          0.       ]\n",
      " [  0.          0.          0.       ]\n",
      " [  0.          0.          0.       ]\n",
      " [  0.          0.          0.       ]\n",
      " [  0.          0.          0.       ]\n",
      " [  0.          0.          0.       ]\n",
      " [  0.          0.          0.       ]]\n"
     ]
    }
   ],
   "source": [
    "model = torch.load(root_path +'/data_0.pt')\n",
    "\n",
    "print(model)\n",
    "print(dir(model))\n",
    "print(model.edge_attr.numpy())\n"
   ]
  },
  {
   "cell_type": "code",
   "execution_count": null,
   "metadata": {},
   "outputs": [],
   "source": []
  },
  {
   "cell_type": "code",
   "execution_count": null,
   "metadata": {},
   "outputs": [],
   "source": []
  }
 ],
 "metadata": {
  "kernelspec": {
   "display_name": "Python 3 (ipykernel)",
   "language": "python",
   "name": "python3"
  },
  "language_info": {
   "codemirror_mode": {
    "name": "ipython",
    "version": 3
   },
   "file_extension": ".py",
   "mimetype": "text/x-python",
   "name": "python",
   "nbconvert_exporter": "python",
   "pygments_lexer": "ipython3",
   "version": "3.10.9"
  }
 },
 "nbformat": 4,
 "nbformat_minor": 2
}
